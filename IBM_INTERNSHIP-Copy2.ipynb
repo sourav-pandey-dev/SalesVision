{
 "cells": [
  {
   "cell_type": "code",
   "execution_count": 8,
   "id": "496a53ee",
   "metadata": {
    "vscode": {
     "languageId": "plaintext"
    }
   },
   "outputs": [],
   "source": [
    "import pandas as pd\n",
    "import numpy as np\n",
    "import matplotlib.pyplot as plt\n",
    "from prophet import Prophet\n",
    "from sklearn.metrics import mean_absolute_error, mean_squared_error\n",
    "import seaborn as sns\n",
    "from sklearn.preprocessing import LabelEncoder\n"
   ]
  },
  {
   "cell_type": "code",
   "execution_count": 9,
   "id": "f87eddb3",
   "metadata": {
    "vscode": {
     "languageId": "plaintext"
    }
   },
   "outputs": [
    {
     "ename": "SyntaxError",
     "evalue": "invalid syntax (3732632016.py, line 1)",
     "output_type": "error",
     "traceback": [
      "\u001b[0;36m  Cell \u001b[0;32mIn[9], line 1\u001b[0;36m\u001b[0m\n\u001b[0;31m    def load_data(train.csv):\u001b[0m\n\u001b[0m                       ^\u001b[0m\n\u001b[0;31mSyntaxError\u001b[0m\u001b[0;31m:\u001b[0m invalid syntax\n"
     ]
    }
   ],
   "source": [
    "\n",
    "def load_data(train.csv):\n",
    "    return pd.read_csv(data)\n"
   ]
  },
  {
   "cell_type": "code",
   "execution_count": null,
   "id": "39aa81fc",
   "metadata": {
    "vscode": {
     "languageId": "plaintext"
    }
   },
   "outputs": [],
   "source": [
    "\n",
    "def clean_data(data):\n",
    "    data['Order Date'] = pd.to_datetime(data['Order Date'], format='%d/%m/%Y')\n",
    "    data['Ship Date'] = pd.to_datetime(data['Ship Date'], format='%d/%m/%Y')\n",
    "    postal_code_mode = data['Postal Code'].mode()[0]\n",
    "    data['Postal Code'].fillna(postal_code_mode, inplace=True)\n",
    "    return data\n"
   ]
  },
  {
   "cell_type": "code",
   "execution_count": null,
   "id": "50c6b17f",
   "metadata": {
    "vscode": {
     "languageId": "plaintext"
    }
   },
   "outputs": [],
   "source": [
    "\n",
    "def plot_sales_by_product(data):\n",
    "    sales_by_product = data.groupby(by=data['Product Name'])['Sales'].sum().reset_index()\n",
    "    sales_by_product = sales_by_product.sort_values(by='Sales', ascending=False).head(10)\n",
    "    plt.figure(figsize=(18, 9))\n",
    "    plt.bar(sales_by_product['Product Name'], sales_by_product['Sales'])\n",
    "    plt.xticks(rotation=90)\n",
    "    plt.xlabel(\"Product Name\")\n",
    "    plt.ylabel(\"Overall Sales\")\n",
    "    plt.title(\"Sales by Product Name\")\n",
    "    plt.show()\n"
   ]
  },
  {
   "cell_type": "code",
   "execution_count": null,
   "id": "2581efce",
   "metadata": {
    "vscode": {
     "languageId": "plaintext"
    }
   },
   "outputs": [],
   "source": [
    "\n",
    "def plot_sales_by_category(data):\n",
    "    sales_by_category = data.groupby(by='Category')['Sales'].sum().reset_index()\n",
    "    sales_by_category = sales_by_category.sort_values(by='Sales', ascending=False)\n",
    "    plt.figure(figsize=(18, 9))\n",
    "    plt.bar(sales_by_category['Category'], sales_by_category['Sales'])\n",
    "    plt.xticks(rotation=90)\n",
    "    plt.xlabel(\"Category\")\n",
    "    plt.ylabel(\"Overall Sales\")\n",
    "    plt.title(\"Sales by Category\")\n",
    "    plt.show()\n"
   ]
  },
  {
   "cell_type": "code",
   "execution_count": null,
   "id": "4b6389a5",
   "metadata": {
    "vscode": {
     "languageId": "plaintext"
    }
   },
   "outputs": [],
   "source": [
    "\n",
    "def plot_sales_by_subcategory(data):\n",
    "    sales_by_subcategory = data.groupby(by='Sub-Category')['Sales'].sum().reset_index()\n",
    "    sales_by_subcategory = sales_by_subcategory.sort_values(by='Sales', ascending=False).head(10)\n",
    "    plt.figure(figsize=(18, 9))\n",
    "    plt.bar(sales_by_subcategory['Sub-Category'], sales_by_subcategory['Sales'])\n",
    "    plt.xticks(rotation=90)\n",
    "    plt.xlabel(\"Sub-Category\")\n",
    "    plt.ylabel(\"Overall Sales\")\n",
    "    plt.title(\"Sales by Sub-Category\")\n",
    "    plt.show()\n"
   ]
  },
  {
   "cell_type": "code",
   "execution_count": null,
   "id": "e4418b7a",
   "metadata": {
    "vscode": {
     "languageId": "plaintext"
    }
   },
   "outputs": [],
   "source": [
    "\n",
    "def plot_sales_by_customer(data):\n",
    "    sales_by_customer = data.groupby(by='Customer Name')['Sales'].mean().reset_index()\n",
    "    sales_by_customer = sales_by_customer.sort_values(by='Sales', ascending=False).head(10)\n",
    "    plt.figure(figsize=(18, 9))\n",
    "    plt.bar(sales_by_customer['Customer Name'], sales_by_customer['Sales'])\n",
    "    plt.xticks(rotation=90)\n",
    "    plt.xlabel(\"Customer Name\")\n",
    "    plt.ylabel(\"Average Sales\")\n",
    "    plt.title(\"Sales by Customer Name\")\n",
    "    plt.show()\n"
   ]
  },
  {
   "cell_type": "code",
   "execution_count": null,
   "id": "35d7ab7a",
   "metadata": {
    "vscode": {
     "languageId": "plaintext"
    }
   },
   "outputs": [],
   "source": [
    "\n",
    "def plot_monthly_sales_trends(data):\n",
    "    data['Order Year-Month'] = data['Order Date'].dt.to_period('M')\n",
    "    monthly_sales = data.groupby(by='Order Year-Month')['Sales'].sum().reset_index()\n",
    "    plt.figure(figsize=(14, 7))\n",
    "    plt.plot(monthly_sales['Order Year-Month'].astype(str), monthly_sales['Sales'], marker='o', linestyle='-')\n",
    "    plt.xticks(rotation=90)\n",
    "    plt.xlabel(\"Month\")\n",
    "    plt.ylabel(\"Sales\")\n",
    "    plt.title(\"Monthly Sales Trend\")\n",
    "    plt.grid(True)\n",
    "    plt.show()\n"
   ]
  },
  {
   "cell_type": "code",
   "execution_count": null,
   "id": "131bd0f2",
   "metadata": {
    "vscode": {
     "languageId": "plaintext"
    }
   },
   "outputs": [],
   "source": [
    "\n",
    "def plot_quarterly_sales_trends(data):\n",
    "    quarterly_sales = data.groupby(by=data['Order Date'].dt.to_period('Q'))['Sales'].sum().reset_index()\n",
    "    plt.figure(figsize=(14, 7))\n",
    "    plt.plot(quarterly_sales['Order Date'].astype(str), quarterly_sales['Sales'], marker='o', linestyle='-')\n",
    "    plt.xticks(rotation=90)\n",
    "    plt.xlabel(\"Quarter\")\n",
    "    plt.ylabel(\"Sales\")\n",
    "    plt.title(\"Quarterly Sales Trend\")\n",
    "    plt.grid(True)\n",
    "    plt.show()\n"
   ]
  },
  {
   "cell_type": "code",
   "execution_count": 10,
   "id": "14ba7a59",
   "metadata": {
    "vscode": {
     "languageId": "plaintext"
    }
   },
   "outputs": [],
   "source": [
    "\n",
    "def plot_delivery_time_analysis(data):\n",
    "    data['Delivery Time (Days)'] = (data['Ship Date'] - data['Order Date']).dt.days\n",
    "    average_delivery_time = data['Delivery Time (Days)'].mean()\n",
    "    plt.figure(figsize=(14, 7))\n",
    "    plt.hist(data['Delivery Time (Days)'], bins=20, color='skyblue', edgecolor='black')\n",
    "    plt.xlabel(\"Delivery Time (Days)\")\n",
    "    plt.ylabel(\"Frequency\")\n",
    "    plt.title(\"Distribution of Delivery Time\")\n",
    "    plt.grid(True)\n",
    "    plt.show()\n",
    "    print(f\"Average Delivery Time: {average_delivery_time:.2f} days\")\n"
   ]
  },
  {
   "cell_type": "code",
   "execution_count": 11,
   "id": "6c5e3964",
   "metadata": {
    "vscode": {
     "languageId": "plaintext"
    }
   },
   "outputs": [],
   "source": [
    "\n",
    "def forecast_sales(data):\n",
    "    predictions = []\n",
    "    for product in data:\n",
    "        monthly_sales = product['monthlySales']\n",
    "        # Process monthly_sales with your model and generate predictions\n",
    "        # Assuming your model generates a prediction list of the same length\n",
    "        predicted_sales = some_forecasting_function(monthly_sales)  # Define this function to generate predictions\n",
    "        predictions.append(predicted_sales)\n",
    "    return predictions\n"
   ]
  },
  {
   "cell_type": "code",
   "execution_count": 12,
   "id": "dea211a1",
   "metadata": {
    "vscode": {
     "languageId": "plaintext"
    }
   },
   "outputs": [],
   "source": [
    "\n",
    "def some_forecasting_function(monthly_sales):\n",
    "    # Implement your forecasting model here\n",
    "    # For demonstration, returning the same sales as a mock prediction\n",
    "    return monthly_sales  # Replace with actual model predictions\n",
    "\n"
   ]
  },
  {
   "cell_type": "code",
   "execution_count": 13,
   "id": "13af37d9",
   "metadata": {
    "vscode": {
     "languageId": "plaintext"
    }
   },
   "outputs": [],
   "source": [
    "\n",
    "def evaluate_forecast(data):\n",
    "    sales_by_order_date = data.groupby('Order Date')['Sales'].sum().reset_index()\n",
    "    sales_by_order_date.columns = ['ds', 'y']\n",
    "    train = sales_by_order_date[sales_by_order_date['ds'] < '2018-12-01']\n",
    "    validation = sales_by_order_date[sales_by_order_date['ds'] >= '2018-12-01']\n",
    "    model = Prophet()\n",
    "    model.fit(train)\n",
    "    future = model.make_future_dataframe(periods=len(validation))\n",
    "    forecast = model.predict(future)\n",
    "    forecast_validation = forecast[['ds', 'yhat']].iloc[-len(validation):].reset_index(drop=True)\n",
    "    validation = validation.reset_index(drop=True)\n",
    "    mae = mean_absolute_error(validation['y'], forecast_validation['yhat'])\n",
    "    rmse = np.sqrt(mean_squared_error(validation['y'], forecast_validation['yhat']))\n",
    "    plt.figure(figsize=(14, 7))\n",
    "    plt.plot(validation['ds'], validation['y'], marker='o', linestyle='-', label='Actual Sales')\n",
    "    plt.plot(forecast_validation['ds'], forecast_validation['yhat'], marker='o', linestyle='-', label='Forecasted Sales')\n",
    "    plt.xlabel('Date')\n",
    "    plt.ylabel('Sales')\n",
    "    plt.title('Forecast vs Actual Sales')\n",
    "    plt.legend()\n",
    "    plt.grid(True)\n",
    "    plt.show()\n",
    "    print(f'Mean Absolute Error (MAE): {mae}')\n",
    "    print(f'Root Mean Squared Error (RMSE): {rmse}')\n"
   ]
  },
  {
   "cell_type": "code",
   "execution_count": 14,
   "id": "f1116aee",
   "metadata": {
    "vscode": {
     "languageId": "plaintext"
    }
   },
   "outputs": [],
   "source": [
    "\n",
    "def plot_correlation_heatmap(data):\n",
    "    columns = ['Row ID', 'Order ID', 'Order Date', 'Ship Date', 'Ship Mode',\n",
    "               'Customer ID', 'Customer Name', 'Segment', 'Country', 'City', 'State',\n",
    "               'Postal Code', 'Region', 'Product ID', 'Category', 'Sub-Category',\n",
    "               'Product Name', 'Sales']\n",
    "    heatmap_data = data[columns]\n",
    "    label_encoder = LabelEncoder()\n",
    "    for column in ['Order ID', 'Ship Mode', 'Customer ID', 'Customer Name', 'Segment', 'Country', 'City', 'State',\n",
    "                   'Region', 'Product ID', 'Category', 'Sub-Category', 'Product Name']:\n",
    "        heatmap_data[column] = label_encoder.fit_transform(heatmap_data[column].astype(str))\n",
    "    heatmap_data['Postal Code'] = pd.to_numeric(heatmap_data['Postal Code'], errors='coerce')\n",
    "    heatmap_data['Order Date'] = pd.to_datetime(heatmap_data['Order Date'], errors='coerce')\n",
    "    heatmap_data['Ship Date'] = pd.to_datetime(heatmap_data['Ship Date'], errors='coerce')\n",
    "    heatmap_data = heatmap_data.dropna()\n",
    "    corr = heatmap_data.corr()\n",
    "    plt.figure(figsize=(20, 16))\n",
    "    sns.heatmap(corr, annot=True, fmt=\".2f\", cmap='coolwarm', linewidths=0.5)\n",
    "    plt.title('Heatmap of Selected Columns')\n",
    "    plt.show()\n",
    "\n",
    "# Usage Example\n",
    "# data = load_data('train.csv')\n",
    "# data = clean_data(data)\n",
    "# plot_sales_by_product(data)\n",
    "# plot_sales_by_category(data)\n",
    "# plot_sales_by_subcategory(data)\n",
    "# plot_sales_by_customer(data)\n",
    "# plot_monthly_sales_trends(data)\n",
    "# plot_quarterly_sales_trends(data)\n",
    "# plot_delivery_time_analysis(data)\n",
    "# forecast_sales(data)\n",
    "# evaluate_forecast(data)\n",
    "# plot_correlation_heatmap(data)\n"
   ]
  },
  {
   "cell_type": "code",
   "execution_count": null,
   "id": "0aee2792-3b64-496e-8151-69f0cc040f28",
   "metadata": {},
   "outputs": [],
   "source": []
  }
 ],
 "metadata": {
  "kernelspec": {
   "display_name": "Python 3 (ipykernel)",
   "language": "python",
   "name": "python3"
  },
  "language_info": {
   "codemirror_mode": {
    "name": "ipython",
    "version": 3
   },
   "file_extension": ".py",
   "mimetype": "text/x-python",
   "name": "python",
   "nbconvert_exporter": "python",
   "pygments_lexer": "ipython3",
   "version": "3.10.12"
  }
 },
 "nbformat": 4,
 "nbformat_minor": 5
}
